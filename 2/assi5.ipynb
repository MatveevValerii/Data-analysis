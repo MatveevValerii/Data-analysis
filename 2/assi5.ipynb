{
 "cells": [
  {
   "cell_type": "code",
   "execution_count": 36,
   "id": "49508df2-0da4-46ae-bfbc-52316191d48c",
   "metadata": {},
   "outputs": [],
   "source": [
    "import pandas as pd\n",
    "import numpy as np\n",
    "import seaborn as sns\n",
    "import matplotlib.pyplot as plt\n",
    "import statsmodels as smb\n",
    "import statsmodels.api as smo\n",
    "import statsmodels.formula.api as smf\n",
    "from scipy import stats\n",
    "\n",
    "df = pd.read_csv(r'data25_01.csv')"
   ]
  },
  {
   "cell_type": "code",
   "execution_count": 47,
   "id": "e9ddd843-3352-4889-ae2a-59eac3771628",
   "metadata": {},
   "outputs": [
    {
     "name": "stdout",
     "output_type": "stream",
     "text": [
      "          X1        X2         Y\n",
      "X1  1.000000 -0.073827  0.893737\n",
      "X2 -0.073827  1.000000  0.326787\n",
      "Y   0.893737  0.326787  1.000000\n"
     ]
    }
   ],
   "source": [
    "df_training = df.sample(frac=0.8,random_state=200)\n",
    "df_test = df.drop(df_training.index)\n",
    "coef = df_test.corr()\n",
    "print(coef)"
   ]
  },
  {
   "cell_type": "code",
   "execution_count": 18,
   "id": "5798a0f3-32c0-4320-ab02-77a286aee8f5",
   "metadata": {},
   "outputs": [],
   "source": [
    "sns.heatmap(df_training.corr(),linewidths=1.5, linecolor=\"black\")"
   ]
  },
  {
   "cell_type": "code",
   "execution_count": 53,
   "id": "e0c78f4d-9977-481a-8a91-9c8d5e70384a",
   "metadata": {},
   "outputs": [
    {
     "name": "stderr",
     "output_type": "stream",
     "text": [
      "c:\\users\\валера\\python\\lib\\site-packages\\seaborn\\_decorators.py:36: FutureWarning: Pass the following variables as keyword args: x, y. From version 0.12, the only valid positional argument will be `data`, and passing other arguments without an explicit keyword will result in an error or misinterpretation.\n",
      "  warnings.warn(\n"
     ]
    },
    {
     "data": {
      "text/plain": [
       "<AxesSubplot:xlabel='X2', ylabel='Y'>"
      ]
     },
     "execution_count": 53,
     "metadata": {},
     "output_type": "execute_result"
    },
    {
     "data": {
      "image/png": "[encoded data removed]",
      "text/plain": [
       "<Figure size 432x288 with 1 Axes>"
      ]
     },
     "metadata": {
      "needs_background": "light"
     },
     "output_type": "display_data"
    }
   ],
   "source": [
    "sns.scatterplot(df['X2'], df['Y'])"
   ]
  },
  {
   "cell_type": "code",
   "execution_count": 54,
   "id": "b52016b8-d097-4b1e-8468-fb2ad77fc020",
   "metadata": {},
   "outputs": [
    {
     "data": {
      "text/html": [
       "<table class=\"simpletable\">\n",
       "<caption>OLS Regression Results</caption>\n",
       "<tr>\n",
       "  <th>Dep. Variable:</th>            <td>Y</td>        <th>  R-squared:         </th> <td>   0.951</td> \n",
       "</tr>\n",
       "<tr>\n",
       "  <th>Model:</th>                   <td>OLS</td>       <th>  Adj. R-squared:    </th> <td>   0.950</td> \n",
       "</tr>\n",
       "<tr>\n",
       "  <th>Method:</th>             <td>Least Squares</td>  <th>  F-statistic:       </th> <td>   2291.</td> \n",
       "</tr>\n",
       "<tr>\n",
       "  <th>Date:</th>             <td>Mon, 07 Feb 2022</td> <th>  Prob (F-statistic):</th> <td>9.31e-156</td>\n",
       "</tr>\n",
       "<tr>\n",
       "  <th>Time:</th>                 <td>00:54:34</td>     <th>  Log-Likelihood:    </th> <td>  199.53</td> \n",
       "</tr>\n",
       "<tr>\n",
       "  <th>No. Observations:</th>      <td>   240</td>      <th>  AIC:               </th> <td>  -393.1</td> \n",
       "</tr>\n",
       "<tr>\n",
       "  <th>Df Residuals:</th>          <td>   237</td>      <th>  BIC:               </th> <td>  -382.6</td> \n",
       "</tr>\n",
       "<tr>\n",
       "  <th>Df Model:</th>              <td>     2</td>      <th>                     </th>     <td> </td>    \n",
       "</tr>\n",
       "<tr>\n",
       "  <th>Covariance Type:</th>      <td>nonrobust</td>    <th>                     </th>     <td> </td>    \n",
       "</tr>\n",
       "</table>\n",
       "<table class=\"simpletable\">\n",
       "<tr>\n",
       "         <td></td>            <th>coef</th>     <th>std err</th>      <th>t</th>      <th>P>|t|</th>  <th>[0.025</th>    <th>0.975]</th>  \n",
       "</tr>\n",
       "<tr>\n",
       "  <th>Intercept</th>       <td>    0.9922</td> <td>    0.091</td> <td>   10.912</td> <td> 0.000</td> <td>    0.813</td> <td>    1.171</td>\n",
       "</tr>\n",
       "<tr>\n",
       "  <th>X1</th>              <td>    0.9967</td> <td>    0.018</td> <td>   56.706</td> <td> 0.000</td> <td>    0.962</td> <td>    1.031</td>\n",
       "</tr>\n",
       "<tr>\n",
       "  <th>np.power(X2, 2)</th> <td>    0.2527</td> <td>    0.008</td> <td>   30.733</td> <td> 0.000</td> <td>    0.236</td> <td>    0.269</td>\n",
       "</tr>\n",
       "</table>\n",
       "<table class=\"simpletable\">\n",
       "<tr>\n",
       "  <th>Omnibus:</th>       <td> 0.591</td> <th>  Durbin-Watson:     </th> <td>   1.967</td>\n",
       "</tr>\n",
       "<tr>\n",
       "  <th>Prob(Omnibus):</th> <td> 0.744</td> <th>  Jarque-Bera (JB):  </th> <td>   0.686</td>\n",
       "</tr>\n",
       "<tr>\n",
       "  <th>Skew:</th>          <td>-0.111</td> <th>  Prob(JB):          </th> <td>   0.710</td>\n",
       "</tr>\n",
       "<tr>\n",
       "  <th>Kurtosis:</th>      <td> 2.862</td> <th>  Cond. No.          </th> <td>    88.2</td>\n",
       "</tr>\n",
       "</table><br/><br/>Notes:<br/>[1] Standard Errors assume that the covariance matrix of the errors is correctly specified."
      ],
      "text/plain": [
       "<class 'statsmodels.iolib.summary.Summary'>\n",
       "\"\"\"\n",
       "                            OLS Regression Results                            \n",
       "==============================================================================\n",
       "Dep. Variable:                      Y   R-squared:                       0.951\n",
       "Model:                            OLS   Adj. R-squared:                  0.950\n",
       "Method:                 Least Squares   F-statistic:                     2291.\n",
       "Date:                Mon, 07 Feb 2022   Prob (F-statistic):          9.31e-156\n",
       "Time:                        00:54:34   Log-Likelihood:                 199.53\n",
       "No. Observations:                 240   AIC:                            -393.1\n",
       "Df Residuals:                     237   BIC:                            -382.6\n",
       "Df Model:                           2                                         \n",
       "Covariance Type:            nonrobust                                         \n",
       "===================================================================================\n",
       "                      coef    std err          t      P>|t|      [0.025      0.975]\n",
       "-----------------------------------------------------------------------------------\n",
       "Intercept           0.9922      0.091     10.912      0.000       0.813       1.171\n",
       "X1                  0.9967      0.018     56.706      0.000       0.962       1.031\n",
       "np.power(X2, 2)     0.2527      0.008     30.733      0.000       0.236       0.269\n",
       "==============================================================================\n",
       "Omnibus:                        0.591   Durbin-Watson:                   1.967\n",
       "Prob(Omnibus):                  0.744   Jarque-Bera (JB):                0.686\n",
       "Skew:                          -0.111   Prob(JB):                        0.710\n",
       "Kurtosis:                       2.862   Cond. No.                         88.2\n",
       "==============================================================================\n",
       "\n",
       "Notes:\n",
       "[1] Standard Errors assume that the covariance matrix of the errors is correctly specified.\n",
       "\"\"\""
      ]
     },
     "execution_count": 54,
     "metadata": {},
     "output_type": "execute_result"
    }
   ],
   "source": [
    "modar = smf.ols(formula = 'Y ~ X1 + np.power(X2,2)',data = df_training)\n",
    "res = modar.fit()\n",
    "res.summary()"
   ]
  },
  {
   "cell_type": "code",
   "execution_count": 26,
   "id": "48b2a06c-b9b8-4d6d-a78e-7511efe94570",
   "metadata": {},
   "outputs": [
    {
     "data": {
      "image/png": "[encoded data removed]",
      "text/plain": [
       "<Figure size 432x288 with 1 Axes>"
      ]
     },
     "metadata": {
      "needs_background": "light"
     },
     "output_type": "display_data"
    },
    {
     "name": "stdout",
     "output_type": "stream",
     "text": [
      "Root mean square: 0.03794974644934917\n"
     ]
    }
   ],
   "source": [
    "y_pred = res.predict(exog = df_test[\"X1\"])\n",
    "sns.residplot(x = df_test[\"Y\"], y = y_pred)\n",
    "plt.show()\n",
    "n = len(df_test)\n",
    "print(\"Root mean square:\",sum(1/n*(df_test[\"Y\"]-y_pred)**2))"
   ]
  },
  {
   "cell_type": "code",
   "execution_count": 55,
   "id": "65a496a1-724f-43a8-b976-dce4a278ad0f",
   "metadata": {},
   "outputs": [
    {
     "data": {
      "text/html": [
       "<table class=\"simpletable\">\n",
       "<caption>OLS Regression Results</caption>\n",
       "<tr>\n",
       "  <th>Dep. Variable:</th>            <td>Y</td>        <th>  R-squared:         </th> <td>   0.953</td> \n",
       "</tr>\n",
       "<tr>\n",
       "  <th>Model:</th>                   <td>OLS</td>       <th>  Adj. R-squared:    </th> <td>   0.953</td> \n",
       "</tr>\n",
       "<tr>\n",
       "  <th>Method:</th>             <td>Least Squares</td>  <th>  F-statistic:       </th> <td>   2413.</td> \n",
       "</tr>\n",
       "<tr>\n",
       "  <th>Date:</th>             <td>Mon, 07 Feb 2022</td> <th>  Prob (F-statistic):</th> <td>2.72e-158</td>\n",
       "</tr>\n",
       "<tr>\n",
       "  <th>Time:</th>                 <td>00:54:39</td>     <th>  Log-Likelihood:    </th> <td>  205.44</td> \n",
       "</tr>\n",
       "<tr>\n",
       "  <th>No. Observations:</th>      <td>   240</td>      <th>  AIC:               </th> <td>  -404.9</td> \n",
       "</tr>\n",
       "<tr>\n",
       "  <th>Df Residuals:</th>          <td>   237</td>      <th>  BIC:               </th> <td>  -394.4</td> \n",
       "</tr>\n",
       "<tr>\n",
       "  <th>Df Model:</th>              <td>     2</td>      <th>                     </th>     <td> </td>    \n",
       "</tr>\n",
       "<tr>\n",
       "  <th>Covariance Type:</th>      <td>nonrobust</td>    <th>                     </th>     <td> </td>    \n",
       "</tr>\n",
       "</table>\n",
       "<table class=\"simpletable\">\n",
       "<tr>\n",
       "      <td></td>         <th>coef</th>     <th>std err</th>      <th>t</th>      <th>P>|t|</th>  <th>[0.025</th>    <th>0.975]</th>  \n",
       "</tr>\n",
       "<tr>\n",
       "  <th>Intercept</th> <td>   -0.0491</td> <td>    0.102</td> <td>   -0.480</td> <td> 0.632</td> <td>   -0.251</td> <td>    0.152</td>\n",
       "</tr>\n",
       "<tr>\n",
       "  <th>X1</th>        <td>    0.9986</td> <td>    0.017</td> <td>   58.258</td> <td> 0.000</td> <td>    0.965</td> <td>    1.032</td>\n",
       "</tr>\n",
       "<tr>\n",
       "  <th>X2</th>        <td>    1.0266</td> <td>    0.032</td> <td>   31.689</td> <td> 0.000</td> <td>    0.963</td> <td>    1.090</td>\n",
       "</tr>\n",
       "</table>\n",
       "<table class=\"simpletable\">\n",
       "<tr>\n",
       "  <th>Omnibus:</th>       <td> 0.799</td> <th>  Durbin-Watson:     </th> <td>   1.982</td>\n",
       "</tr>\n",
       "<tr>\n",
       "  <th>Prob(Omnibus):</th> <td> 0.671</td> <th>  Jarque-Bera (JB):  </th> <td>   0.886</td>\n",
       "</tr>\n",
       "<tr>\n",
       "  <th>Skew:</th>          <td>-0.059</td> <th>  Prob(JB):          </th> <td>   0.642</td>\n",
       "</tr>\n",
       "<tr>\n",
       "  <th>Kurtosis:</th>      <td> 2.726</td> <th>  Cond. No.          </th> <td>    86.1</td>\n",
       "</tr>\n",
       "</table><br/><br/>Notes:<br/>[1] Standard Errors assume that the covariance matrix of the errors is correctly specified."
      ],
      "text/plain": [
       "<class 'statsmodels.iolib.summary.Summary'>\n",
       "\"\"\"\n",
       "                            OLS Regression Results                            \n",
       "==============================================================================\n",
       "Dep. Variable:                      Y   R-squared:                       0.953\n",
       "Model:                            OLS   Adj. R-squared:                  0.953\n",
       "Method:                 Least Squares   F-statistic:                     2413.\n",
       "Date:                Mon, 07 Feb 2022   Prob (F-statistic):          2.72e-158\n",
       "Time:                        00:54:39   Log-Likelihood:                 205.44\n",
       "No. Observations:                 240   AIC:                            -404.9\n",
       "Df Residuals:                     237   BIC:                            -394.4\n",
       "Df Model:                           2                                         \n",
       "Covariance Type:            nonrobust                                         \n",
       "==============================================================================\n",
       "                 coef    std err          t      P>|t|      [0.025      0.975]\n",
       "------------------------------------------------------------------------------\n",
       "Intercept     -0.0491      0.102     -0.480      0.632      -0.251       0.152\n",
       "X1             0.9986      0.017     58.258      0.000       0.965       1.032\n",
       "X2             1.0266      0.032     31.689      0.000       0.963       1.090\n",
       "==============================================================================\n",
       "Omnibus:                        0.799   Durbin-Watson:                   1.982\n",
       "Prob(Omnibus):                  0.671   Jarque-Bera (JB):                0.886\n",
       "Skew:                          -0.059   Prob(JB):                        0.642\n",
       "Kurtosis:                       2.726   Cond. No.                         86.1\n",
       "==============================================================================\n",
       "\n",
       "Notes:\n",
       "[1] Standard Errors assume that the covariance matrix of the errors is correctly specified.\n",
       "\"\"\""
      ]
     },
     "execution_count": 55,
     "metadata": {},
     "output_type": "execute_result"
    }
   ],
   "source": [
    "modar2 = smf.ols(formula = 'Y ~ X1 + X2',data = df_training)\n",
    "res2 = modar2.fit()\n",
    "res2.summary()"
   ]
  },
  {
   "cell_type": "code",
   "execution_count": 56,
   "id": "af43e66b-c25b-4fe3-b158-35bcaf2cb0f9",
   "metadata": {},
   "outputs": [
    {
     "data": {
      "text/plain": [
       "Intercept   -0.049094\n",
       "X1           0.998606\n",
       "X2           1.026611\n",
       "dtype: float64"
      ]
     },
     "execution_count": 56,
     "metadata": {},
     "output_type": "execute_result"
    }
   ],
   "source": [
    "res2.params"
   ]
  },
  {
   "cell_type": "markdown",
   "id": "498d4029-1ec1-42cf-85d3-10670fdc8ca6",
   "metadata": {},
   "source": [
    "The equation is $y = 1.026611*X2 + 0.998606*X1 - 0.049094$"
   ]
  },
  {
   "cell_type": "code",
   "execution_count": 57,
   "id": "bda6bcc9-9bf5-4903-b59e-db725b695cb9",
   "metadata": {},
   "outputs": [
    {
     "name": "stdout",
     "output_type": "stream",
     "text": [
      "Mean square error: 0.004535410356919462\n"
     ]
    },
    {
     "data": {
      "image/png": "[encoded data removed]",
      "text/plain": [
       "<Figure size 432x288 with 1 Axes>"
      ]
     },
     "metadata": {
      "needs_background": "light"
     },
     "output_type": "display_data"
    }
   ],
   "source": [
    "y_pred = res2.predict(exog = df_test[[\"X1\",\"X2\"]])\n",
    "N = len(df_tst)\n",
    "print(\"Mean square error:\",sum(1/N*(df_test[\"Y\"]-y_pred)**2))\n",
    "sns.residplot(x = df_test[\"Y\"], y = y_pred)\n",
    "plt.show()\n"
   ]
  },
  {
   "cell_type": "code",
   "execution_count": null,
   "id": "fa5fe9e4-7e2b-4353-9b58-b3d675a41ea7",
   "metadata": {},
   "outputs": [],
   "source": []
  }
 ],
 "metadata": {
  "kernelspec": {
   "display_name": "Python 3 (ipykernel)",
   "language": "python",
   "name": "python3"
  },
  "language_info": {
   "codemirror_mode": {
    "name": "ipython",
    "version": 3
   },
   "file_extension": ".py",
   "mimetype": "text/x-python",
   "name": "python",
   "nbconvert_exporter": "python",
   "pygments_lexer": "ipython3",
   "version": "3.9.4"
  }
 },
 "nbformat": 4,
 "nbformat_minor": 5
}
