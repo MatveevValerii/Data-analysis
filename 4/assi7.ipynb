{
 "cells": [
  {
   "cell_type": "code",
   "execution_count": 2,
   "id": "6da8a0d1-3909-4610-b858-b70d5df81039",
   "metadata": {},
   "outputs": [],
   "source": [
    "import pandas as pd\n",
    "import numpy as  np\n",
    "import seaborn as sns\n",
    "import matplotlib.pyplot as plt\n",
    "import statsmodels as smb\n",
    "import statsmodels.api as smo\n",
    "import statsmodels.formula.api as smf\n",
    "from scipy import stats\n",
    "\n",
    "df = pd.read_csv(r'logistic regression dataset-Social_Network_Ads.csv')\n"
   ]
  },
  {
   "cell_type": "code",
   "execution_count": 13,
   "id": "63763606-c9d7-4d71-bec9-3813d6798f6f",
   "metadata": {},
   "outputs": [
    {
     "name": "stdout",
     "output_type": "stream",
     "text": [
      "(80, 5)\n"
     ]
    }
   ],
   "source": [
    "df_training = df.sample(frac=0.8,random_state=200)\n",
    "#df_training = df_training.drop(['User ID', 'Gender', 'Age'], axis=1)\n",
    "df_test = df.drop(df_training.index)\n",
    "#df_test = df_test.drop(['User ID', 'Gender', 'Age'], axis=1)\n",
    "print(df_test.shape)"
   ]
  },
  {
   "cell_type": "code",
   "execution_count": 14,
   "id": "5b0fa00d-446e-4270-9a1c-4dfc9f275870",
   "metadata": {},
   "outputs": [
    {
     "data": {
      "image/png": "[encoded data removed]",
      "text/plain": [
       "<Figure size 432x288 with 1 Axes>"
      ]
     },
     "metadata": {
      "needs_background": "light"
     },
     "output_type": "display_data"
    }
   ],
   "source": [
    "plt.plot(df_training[\"EstimatedSalary\"], df_training[\"Purchased\"], '*')\n",
    "#plt.scatter(df_training[\"EstimatedSalary\"], df_training[\"Purchased\"])\n",
    "plt.grid()\n",
    "plt.show()"
   ]
  },
  {
   "cell_type": "code",
   "execution_count": 15,
   "id": "9b5e73aa-db4a-4473-af48-1661adc49029",
   "metadata": {},
   "outputs": [
    {
     "name": "stdout",
     "output_type": "stream",
     "text": [
      "Optimization terminated successfully.\n",
      "         Current function value: 0.595592\n",
      "         Iterations 5\n"
     ]
    }
   ],
   "source": [
    "model = smf.logit(formula = 'Purchased ~ EstimatedSalary', data = df_training)\n",
    "res = model.fit()"
   ]
  },
  {
   "cell_type": "code",
   "execution_count": 16,
   "id": "5fe67e4e-fc3e-4944-a04e-7b6148002719",
   "metadata": {},
   "outputs": [
    {
     "name": "stdout",
     "output_type": "stream",
     "text": [
      "                           Logit Regression Results                           \n",
      "==============================================================================\n",
      "Dep. Variable:              Purchased   No. Observations:                  320\n",
      "Model:                          Logit   Df Residuals:                      318\n",
      "Method:                           MLE   Df Model:                            1\n",
      "Date:                Thu, 17 Feb 2022   Pseudo R-squ.:                  0.1039\n",
      "Time:                        18:33:07   Log-Likelihood:                -190.59\n",
      "converged:                       True   LL-Null:                       -212.70\n",
      "Covariance Type:            nonrobust   LLR p-value:                 2.947e-11\n",
      "===================================================================================\n",
      "                      coef    std err          z      P>|z|      [0.025      0.975]\n",
      "-----------------------------------------------------------------------------------\n",
      "Intercept          -2.2195      0.314     -7.079      0.000      -2.834      -1.605\n",
      "EstimatedSalary  2.363e-05   3.84e-06      6.150      0.000    1.61e-05    3.12e-05\n",
      "===================================================================================\n"
     ]
    }
   ],
   "source": [
    "print(res.summary())"
   ]
  },
  {
   "cell_type": "code",
   "execution_count": 17,
   "id": "394f7a22-6d3d-4ab3-82e7-f7c907b0da11",
   "metadata": {},
   "outputs": [
    {
     "data": {
      "image/png": "[encoded data removed]",
      "text/plain": [
       "<Figure size 432x288 with 1 Axes>"
      ]
     },
     "metadata": {
      "needs_background": "light"
     },
     "output_type": "display_data"
    }
   ],
   "source": [
    "val = np.linspace(13000,150000,320)\n",
    "valDf = pd.DataFrame(data = val, columns = [\"EstimatedSalary\"])\n",
    "\n",
    "yhat = res.predict(valDf)\n",
    "plt.plot(df_test['EstimatedSalary'], df_test['Purchased'], '*',valDf, yhat) \n",
    "plt.grid()\n",
    "plt.show()"
   ]
  },
  {
   "cell_type": "code",
   "execution_count": 18,
   "id": "424b6e56-6170-482f-b700-6cf04b4198b8",
   "metadata": {},
   "outputs": [
    {
     "name": "stdout",
     "output_type": "stream",
     "text": [
      "(80, 2)\n"
     ]
    }
   ],
   "source": [
    "confDf = pd.DataFrame({'Probability':res.predict(df_test)})\n",
    "confDf['predLabel'] = (confDf['Probability']>0.5).astype(int)"
   ]
  },
  {
   "cell_type": "code",
   "execution_count": 19,
   "id": "aafa8f4b-ee4a-4700-a048-86d3150453f0",
   "metadata": {},
   "outputs": [
    {
     "data": {
      "image/png": "[encoded data removed]",
      "text/plain": [
       "<Figure size 432x288 with 2 Axes>"
      ]
     },
     "metadata": {
      "needs_background": "light"
     },
     "output_type": "display_data"
    }
   ],
   "source": [
    "confMatrix = pd.crosstab(confDf['predLabel'],df_test['Purchased'])\n",
    "sns.heatmap(confMatrix, annot = True)                  \n",
    "plt.show()"
   ]
  },
  {
   "cell_type": "code",
   "execution_count": 20,
   "id": "9138cb3c-f823-4adc-bf7b-e773ca461767",
   "metadata": {},
   "outputs": [
    {
     "name": "stdout",
     "output_type": "stream",
     "text": [
      "BA = 0.65\n"
     ]
    }
   ],
   "source": [
    "TN = 57\n",
    "FN = 14\n",
    "FP = 2\n",
    "TP = 7\n",
    "TPR = TP/(TP + FN)\n",
    "TNR = TN/(TN + FP)\n",
    "\n",
    "BA = (TPR + TNR)/2\n",
    "print(f\"BA = {BA:0.2f}\")"
   ]
  },
  {
   "cell_type": "markdown",
   "id": "245a9c7a-ff6d-475f-b364-7e72641e74a4",
   "metadata": {},
   "source": [
    "TASK 2"
   ]
  },
  {
   "cell_type": "code",
   "execution_count": 23,
   "id": "e79e17f6-47cc-46fa-ab9a-67ee177734d8",
   "metadata": {},
   "outputs": [
    {
     "data": {
      "image/png": "[encoded data removed]",
      "text/plain": [
       "<Figure size 432x288 with 1 Axes>"
      ]
     },
     "metadata": {
      "needs_background": "light"
     },
     "output_type": "display_data"
    }
   ],
   "source": [
    "plt.plot(df_training['Age'], df_training['Purchased'], '*')\n",
    "plt.grid()\n",
    "plt.show()"
   ]
  },
  {
   "cell_type": "code",
   "execution_count": 32,
   "id": "81e839f8-b7c2-43c3-a2b6-87cfdc25e504",
   "metadata": {},
   "outputs": [
    {
     "name": "stdout",
     "output_type": "stream",
     "text": [
      "Optimization terminated successfully.\n",
      "         Current function value: 0.346824\n",
      "         Iterations 8\n"
     ]
    }
   ],
   "source": [
    "model2 = smf.logit(formula = 'Purchased ~ EstimatedSalary + Age', data = df_training)\n",
    "res2 = model2.fit()"
   ]
  },
  {
   "cell_type": "code",
   "execution_count": 33,
   "id": "913f12c6-16bd-4022-9fe2-b18d6a5b1552",
   "metadata": {},
   "outputs": [
    {
     "name": "stdout",
     "output_type": "stream",
     "text": [
      "                           Logit Regression Results                           \n",
      "==============================================================================\n",
      "Dep. Variable:              Purchased   No. Observations:                  320\n",
      "Model:                          Logit   Df Residuals:                      317\n",
      "Method:                           MLE   Df Model:                            2\n",
      "Date:                Thu, 17 Feb 2022   Pseudo R-squ.:                  0.4782\n",
      "Time:                        18:56:05   Log-Likelihood:                -110.98\n",
      "converged:                       True   LL-Null:                       -212.70\n",
      "Covariance Type:            nonrobust   LLR p-value:                 6.718e-45\n",
      "===================================================================================\n",
      "                      coef    std err          z      P>|z|      [0.025      0.975]\n",
      "-----------------------------------------------------------------------------------\n",
      "Intercept         -12.8212      1.502     -8.533      0.000     -15.766      -9.876\n",
      "EstimatedSalary  3.603e-05    6.1e-06      5.911      0.000    2.41e-05     4.8e-05\n",
      "Age                 0.2447      0.030      8.055      0.000       0.185       0.304\n",
      "===================================================================================\n"
     ]
    }
   ],
   "source": [
    "print(res2.summary())"
   ]
  },
  {
   "cell_type": "code",
   "execution_count": 27,
   "id": "c614a2f8-19ac-44fc-98a5-2d9c1f8f42f2",
   "metadata": {},
   "outputs": [],
   "source": [
    "confDf_2 = pd.DataFrame({'Probability':res2.predict(df_test)})\n",
    "confDf_2['predLabel'] = (confDf_2['Probability']>0.5).astype(int)"
   ]
  },
  {
   "cell_type": "code",
   "execution_count": 28,
   "id": "b1d0c10b-9871-43c4-89ce-f6366dcc9d2c",
   "metadata": {},
   "outputs": [
    {
     "data": {
      "image/png": "[encoded data removed]",
      "text/plain": [
       "<Figure size 432x288 with 2 Axes>"
      ]
     },
     "metadata": {
      "needs_background": "light"
     },
     "output_type": "display_data"
    }
   ],
   "source": [
    "confMatrix2 = pd.crosstab(confDf_2['predLabel'],df_test['Purchased'])\n",
    "sns.heatmap(confMatrix2, annot = True)                  \n",
    "plt.show()"
   ]
  },
  {
   "cell_type": "code",
   "execution_count": 29,
   "id": "5eef4837-078d-44b4-9e1d-2e376031d013",
   "metadata": {},
   "outputs": [
    {
     "name": "stdout",
     "output_type": "stream",
     "text": [
      "BA = 0.77\n"
     ]
    }
   ],
   "source": [
    "TN = 52\n",
    "FN = 7\n",
    "FP = 7\n",
    "TP = 14\n",
    "TPR = TP/(TP + FN)\n",
    "TNR = TN/(TN + FP)\n",
    "\n",
    "BA = (TPR + TNR)/2\n",
    "print(f\"BA = {BA:0.2f}\")"
   ]
  },
  {
   "cell_type": "code",
   "execution_count": null,
   "id": "2d2ccc06-176c-4cc9-9617-537f9643c977",
   "metadata": {},
   "outputs": [],
   "source": []
  }
 ],
 "metadata": {
  "kernelspec": {
   "display_name": "Python 3 (ipykernel)",
   "language": "python",
   "name": "python3"
  },
  "language_info": {
   "codemirror_mode": {
    "name": "ipython",
    "version": 3
   },
   "file_extension": ".py",
   "mimetype": "text/x-python",
   "name": "python",
   "nbconvert_exporter": "python",
   "pygments_lexer": "ipython3",
   "version": "3.9.4"
  }
 },
 "nbformat": 4,
 "nbformat_minor": 5
}
